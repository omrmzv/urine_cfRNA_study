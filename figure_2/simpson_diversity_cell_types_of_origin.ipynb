{
 "cells": [
  {
   "cell_type": "code",
   "execution_count": 3,
   "id": "bcecc7de",
   "metadata": {},
   "outputs": [],
   "source": [
    "#loading libraries\n",
    "suppressMessages(library(\"DESeq2\"))\n",
    "suppressMessages(library(edgeR))\n",
    "suppressMessages(library(lubridate))\n",
    "suppressMessages(library(dplyr))\n",
    "suppressMessages(library(tidyverse))\n",
    "suppressMessages(library(gsheet))\n",
    "suppressMessages(library(data.table))\n",
    "suppressMessages(library(vegan))\n",
    "suppressMessages(library(EnvStats))\n",
    "suppressMessages(library(stringr))\n",
    "suppressMessages(library(vegan))"
   ]
  },
  {
   "cell_type": "code",
   "execution_count": null,
   "id": "9e45ccda",
   "metadata": {},
   "outputs": [],
   "source": [
    "# This code was used to calculate cell-types of origin's simpson diversity "
   ]
  },
  {
   "cell_type": "code",
   "execution_count": 3,
   "id": "488f3caf",
   "metadata": {},
   "outputs": [],
   "source": [
    "rm(list=ls())\n",
    "sample_key = fread(\"/workdir/omm35/urine_plasma_cfRNA_comparison/metadata_key/plasma_urine_key.tsv\")\n",
    "\n",
    "sample_key = sample_key  %>% filter(use_pair==\"TRUE\")\n",
    "\n",
    "qc_pass_samples = fread(\"/workdir/omm35/paper_urine_cfrna/metadata/QC_pass_samples.csv\")"
   ]
  },
  {
   "cell_type": "code",
   "execution_count": 4,
   "id": "dac03184",
   "metadata": {},
   "outputs": [],
   "source": [
    "sample_key_urine = sample_key  \n",
    "sample_key_plasma = sample_key\n",
    "\n",
    "\n",
    "\n",
    "# #For urine\n",
    "sample_key_urine$sample_id = sample_key_urine$sample_id_urine\n",
    "sample_key_urine$event_sym = factor(sample_key_urine$event_sym)\n",
    "\n",
    "# #For plasma\n",
    "sample_key_plasma$sample_id = sample_key_plasma$sample_id_plasma\n",
    "sample_key_plasma$event_sym = factor(sample_key_plasma$event_sym)\n",
    "urinePlasmaMapping = sample_key_urine  %>% select(Record_ID,SubjectID,event_sym,sample_id_plasma,sample_id_urine)\n",
    "colnames(urinePlasmaMapping)[3]=\"Event\""
   ]
  },
  {
   "cell_type": "code",
   "execution_count": 5,
   "id": "1044212c",
   "metadata": {},
   "outputs": [],
   "source": [
    "patient_metadata = fread(\"/workdir/omm35/urine_cfRNA_analysis/metadata/patient_metadata.tsv\")\n",
    "patient_metadata = patient_metadata[,c(\"Record_ID\",\"age\",\"sex\",\"group\",\"hct_date\")]\n",
    "patient_metadata$Record_ID  = as.character(patient_metadata$Record_ID)"
   ]
  },
  {
   "cell_type": "code",
   "execution_count": 6,
   "id": "6638ee1f",
   "metadata": {},
   "outputs": [],
   "source": [
    "calculate_simpson.diversity = function(pathtofile,samples_after_qc){\n",
    "    tissues = fread(pathtofile, header=TRUE)\n",
    "    tissues$sample_id=gsub(\"\\\\.\",'-',tissues$sample_id)\n",
    "    tissues = tissues[tissues$sample_id  %in% samples_after_qc, ]\n",
    "    tissues = column_to_rownames(tissues , var = \"sample_id\")\n",
    "    simpson_df <- as.data.frame(diversity(tissues, \"simpson\"))\n",
    "    simpson_df = simpson_df  %>% rownames_to_column(var=\"sample_id\")\n",
    "    colnames(simpson_df)[2]=\"simpson_index\"\n",
    "    return(simpson_df)\n",
    "}"
   ]
  },
  {
   "cell_type": "code",
   "execution_count": 7,
   "id": "3a0ee4d7",
   "metadata": {},
   "outputs": [],
   "source": [
    "path = \"/workdir/omm35/test_cfrna_deconvolution/output/gvhd_urine_updated_ref_BP.protein_coding.tsv\"\n",
    "urine.simpson.df = calculate_simpson.diversity(path,sample_key_urine$sample_id)\n",
    "urine.simpson.df = urine.simpson.df  %>% left_join(urinePlasmaMapping, by=c(\"sample_id\"=\"sample_id_urine\"))\n",
    "urine.simpson.df  = urine.simpson.df  %>%  select(-sample_id_plasma)\n",
    "urine.simpson.df$analyte=\"Urine-cfRNA\""
   ]
  },
  {
   "cell_type": "markdown",
   "id": "205ca408",
   "metadata": {},
   "source": [
    "GVHD-Plasma"
   ]
  },
  {
   "cell_type": "code",
   "execution_count": 8,
   "id": "f28076c4",
   "metadata": {},
   "outputs": [],
   "source": [
    "calculate_simpson.diversity = function(pathtofile,samples_after_qc){\n",
    "    tissues = fread(pathtofile, header=TRUE)\n",
    "    tissues = tissues[tissues$sample_id  %in% samples_after_qc, ]\n",
    "    tissues = column_to_rownames(tissues , var = \"sample_id\")\n",
    "    simpson_df <- as.data.frame(diversity(tissues, \"simpson\"))\n",
    "    simpson_df = simpson_df  %>% rownames_to_column(var=\"sample_id\")\n",
    "    colnames(simpson_df)[2]=\"simpson_index\"\n",
    "    return(simpson_df)\n",
    "}"
   ]
  },
  {
   "cell_type": "code",
   "execution_count": 9,
   "id": "fae3e8a5",
   "metadata": {},
   "outputs": [],
   "source": [
    "path = \"/workdir/omm35/test_cfrna_deconvolution/output/gvhd_plasma_updated_ref_BP.protein_coding.tsv\"\n",
    "plasma.simpson.df = calculate_simpson.diversity(path,sample_key_plasma$sample_id)\n",
    "plasma.simpson.df = plasma.simpson.df  %>% left_join(urinePlasmaMapping, by=c(\"sample_id\"=\"sample_id_plasma\"))\n",
    "plasma.simpson.df  = plasma.simpson.df  %>%  select(-sample_id_urine)\n",
    "plasma.simpson.df$analyte=\"Plasma-cfRNA\""
   ]
  },
  {
   "cell_type": "markdown",
   "id": "60eaf726",
   "metadata": {},
   "source": [
    "For IRB "
   ]
  },
  {
   "cell_type": "code",
   "execution_count": 10,
   "id": "84099134",
   "metadata": {},
   "outputs": [],
   "source": [
    "################plasma\n",
    "path_irb_plasma<-\"/workdir/omm35/test_cfrna_deconvolution/healthy_plasma/healthy_plasma_updated_ref_BP.protein_coding.tsv\"\n",
    "# irb_tissuesPlasma$sample_id=gsub(\"\\\\.\",\"-\",irb_tissuesPlasma$sample_id)\n",
    "# plasma_df = rbind(gvhd_tissuesPlasma,irb_tissuesPlasma)\n",
    "# plasmadf=plasma_df\n",
    "\n",
    "################urine \n",
    "#path_irb_urine<-\"/workdir/omm35/test_cfrna_deconvolution/healthy_urine/healthy_urine_BP.protein_coding.tsv\"\n",
    "# irb_tissuesUrine$sample_id=gsub(\"\\\\.\",\"-\",irb_tissuesUrine$sample_id)\n",
    "# urine_df = rbind(gvhd_tissuesUrine,irb_tissuesUrine)\n",
    "# urinedf=urine_df\n",
    "calculate_simpson.diversity = function(pathtofile,samples_after_qc){\n",
    "    tissues = fread(pathtofile, header=TRUE)\n",
    "    tissues$sample_id=gsub(\"\\\\.\",'-',tissues$sample_id)\n",
    "    tissues = tissues[tissues$sample_id  %in% samples_after_qc, ]\n",
    "    tissues = column_to_rownames(tissues , var = \"sample_id\")\n",
    "    simpson_df <- as.data.frame(diversity(tissues, \"simpson\"))\n",
    "    simpson_df = simpson_df  %>% rownames_to_column(var=\"sample_id\")\n",
    "    colnames(simpson_df)[2]=\"simpson_index\"\n",
    "    return(simpson_df)\n",
    "}"
   ]
  },
  {
   "cell_type": "code",
   "execution_count": 11,
   "id": "734762d2",
   "metadata": {},
   "outputs": [],
   "source": [
    "merged.simpson.df = rbind(urine.simpson.df,plasma.simpson.df)\n",
    "merged.simpson.df = merged.simpson.df[merged.simpson.df$Event  %in% c('PR','D0','E','1M','2M','3M','6M'),]\n",
    "merged.simpson.df$Event=  factor(merged.simpson.df$Event,levels=c('PR','D0','E','1M','2M','3M','6M'))"
   ]
  },
  {
   "cell_type": "code",
   "execution_count": 2,
   "id": "55254ee2",
   "metadata": {},
   "outputs": [],
   "source": [
    "merged.simpson.df%>% ggplot(.,aes(Event ,simpson_index, fill= analyte))+geom_boxplot(lwd=0.5, outlier.size = 0.3)+\n",
    "   geom_point(position = position_jitterdodge( jitter.width = 0.2,\n",
    "  jitter.height = 0,\n",
    "  dodge.width = 0.75,\n",
    "  seed = NA), alpha=0.1) + scale_fill_manual(values=c('#EE6677','#4477AA'))+ theme_classic()+\n",
    "  ylab(\"Simpson Index\")+ ylim(0,1)+ theme(\n",
    "    axis.title.x = element_text(size = 8,family = \"Helvetica\", color=\"black\"),\n",
    "    axis.text.x = element_text(size = 8,family = \"Helvetica\", color=\"black\"),\n",
    "    axis.title.y = element_text(size = 8,family = \"Helvetica\", color=\"black\"),\n",
    "    axis.text.y = element_text(size=6,family = \"Helvetica\", color=\"black\"),\n",
    "    #legend.position = c(0.8, 0.8),\n",
    "    legend.position = \"none\",\n",
    "    legend.text = element_text(size=6),\n",
    "    legend.title = element_blank(),\n",
    "    legend.box.background = element_rect(),\n",
    "  )\n",
    "\n",
    "merged.simpson.df%>% ggplot(.,aes(analyte,simpson_index, fill= analyte))+geom_boxplot(lwd=0.5, outlier.size = 0.3)+\n",
    "   geom_point(position = position_jitterdodge( jitter.width = 0.2,\n",
    "  jitter.height = 0,\n",
    "  dodge.width = 0.75,\n",
    "  seed = NA), alpha=0.1) + scale_fill_manual(values=c('#EE6677','#4477AA'))+ theme_classic()+\n",
    "  ylab(\"Simpson Index\")+\n",
    "ggpubr::stat_compare_means(\n",
    "comparisons= list(c(\"Urine-cfRNA\",\"Plasma-cfRNA\")),\n",
    "method=\"wilcox\",\n",
    "size = 2.5,\n",
    "method.args=list(exact=TRUE,paired=FALSE)\n",
    ")+ theme(\n",
    "    axis.title.x = element_text(size = 8,family = \"Helvetica\", color=\"black\"),\n",
    "    axis.text.x = element_text(size = 8,family = \"Helvetica\", color=\"black\"),\n",
    "    axis.title.y = element_text(size = 8,family = \"Helvetica\", color=\"black\"),\n",
    "    axis.text.y = element_text(size=6,family = \"Helvetica\", color=\"black\"),\n",
    "    #legend.position = c(0.8, 0.8),\n",
    "    legend.position = \"none\",\n",
    "    legend.text = element_text(size=6),\n",
    "    legend.title = element_blank(),\n",
    "    legend.box.background = element_rect(),\n",
    "  )"
   ]
  },
  {
   "cell_type": "code",
   "execution_count": 1,
   "id": "b7e35a16",
   "metadata": {},
   "outputs": [],
   "source": [
    "# pairwise.wilcox.test(x=merged.simpson.df[merged.simpson.df$analyte==\"Plasma-cfRNA\",]$simpson_index, g=merged.simpson.df$Event, p.adjust.method = \"none\")\n",
    "# pairwise.wilcox.test(x=merged.simpson.df[merged.simpson.df$analyte==\"Urine-cfRNA\",]$simpson_index, g=merged.simpson.df$Event, p.adjust.method = \"none\")"
   ]
  }
 ],
 "metadata": {
  "kernelspec": {
   "display_name": "R",
   "language": "R",
   "name": "ir"
  },
  "language_info": {
   "codemirror_mode": "r",
   "file_extension": ".r",
   "mimetype": "text/x-r-source",
   "name": "R",
   "pygments_lexer": "r",
   "version": "4.0.2"
  }
 },
 "nbformat": 4,
 "nbformat_minor": 5
}
