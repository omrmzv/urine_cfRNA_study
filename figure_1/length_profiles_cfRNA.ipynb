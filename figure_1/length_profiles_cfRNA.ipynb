{
 "cells": [
  {
   "cell_type": "code",
   "execution_count": 1,
   "id": "5d5f330e",
   "metadata": {},
   "outputs": [
    {
     "name": "stderr",
     "output_type": "stream",
     "text": [
      "Warning message:\n",
      "“package ‘gsheet’ was built under R version 4.2.2”\n",
      "Warning message:\n",
      "“package ‘EnvStats’ was built under R version 4.2.2”\n"
     ]
    }
   ],
   "source": [
    "suppressMessages(library(lubridate))\n",
    "suppressMessages(library(dplyr))\n",
    "suppressMessages(library(data.table))\n",
    "suppressMessages(library(gsheet))\n",
    "suppressMessages(library(ggplot2))\n",
    "suppressMessages(library(EnvStats))\n",
    "suppressMessages(library(tidyverse))"
   ]
  },
  {
   "cell_type": "code",
   "execution_count": 2,
   "id": "04ac2deb",
   "metadata": {},
   "outputs": [],
   "source": [
    "setwd(\"../../\")\n",
    "source(\"/workdir/omm35/paper_urine_cfrna/scripts/theme_ggplot_cfrna.R\")"
   ]
  },
  {
   "cell_type": "code",
   "execution_count": 3,
   "id": "5e60fb86",
   "metadata": {},
   "outputs": [],
   "source": [
    "rm(list=ls())\n",
    "# Load QC-passed samples metadata with only 'sample_id' and 'biofluid' columns\n",
    "samples_after_qc <- fread(\"/workdir/omm35/paper_urine_cfrna/metadata/QC_pass_samples.csv\")\n",
    "meta.df = samples_after_qc[, c(\"sample_id\", \"biofluid\")]\n",
    "\n",
    "# Set working directory to where cfRNA length profiles are stored\n",
    "setwd(\"/local/workdir/omm35/cfRNA_length_profiles\")\n",
    "\n",
    "# Define a function to process each file: read counts, clean sample_id, and calculate fraction\n",
    "get_length <- function(filename) {\n",
    "  df <- read.table(filename, header = FALSE, col.names = c('count', 'fragment_length'))\n",
    "  df$sample_id = filename\n",
    "  df$sample_id = gsub(\".*/\", \"\", df$sample_id) # Remove path, leaving filename\n",
    "  df$sample_id = gsub(\"_aligned.lengths.counts\", \"\", df$sample_id) # Clean sample_id\n",
    "  df$frac <- df$count / sum(df$count) # Calculate fraction of counts for each fragment length\n",
    "  return(df)\n",
    "}\n",
    "\n",
    "# List all files matching the pattern \"*.lengths.counts\" in a specified directory, including subdirectories\n",
    "all.files <- list.files(\"/local/workdir/omm35/cfRNA_length_profiles/output/\", full.names = TRUE, pattern = \"*.lengths.counts\", recursive = TRUE)\n",
    "\n",
    "# Apply the 'get_length' function to each file and combine the results into one data frame\n",
    "all.length.df = rbindlist(lapply(all.files, FUN = get_length))\n",
    "\n",
    "# Filter to include only samples that passed QC\n",
    "all.length.df = all.length.df[all.length.df$sample_id %in% meta.df$sample_id, ]\n",
    "\n",
    "# Merge cfRNA length data with sample metadata\n",
    "all.length.df = meta.df %>% left_join(all.length.df, by = \"sample_id\")\n",
    "\n",
    "# Prepare the combined data frame for plotting\n",
    "combined.plasma.urine.df = all.length.df\n",
    "\n",
    "# Set options for plot size\n",
    "options(repr.plot.width = 10, repr.plot.height = 10)\n",
    "\n",
    "# Define a colorblind-friendly color palette for plotting\n",
    "safe_colorblind_palette <- c(\"#88CCEE\", \"#CC6677\", \"#DDCC77\", \"#117733\", \"#332288\", \"#AA4499\", \n",
    "                             \"#44AA99\", \"#999933\", \"#882255\", \"#661100\", \"#6699CC\", \"#888888\")\n",
    "safe_colorblind_palette <- c('#4477AA', '#EE6677', '#228833', '#CCBB44', '#66CCEE', '#AA3377', '#BBBBBB')\n",
    "\n",
    "# Plot cfRNA fragment length distributions by biofluid using ggplot2\n",
    "ggplot(combined.plasma.urine.df, aes(y = frac, x = fragment_length, group = sample_id, color = biofluid)) +\n",
    "  geom_line(alpha = 0.001) +  # Plot individual samples with very low opacity\n",
    "  stat_summary(aes(group = biofluid), fun = mean, geom = \"line\", size = 0.2) +  # Overlay average lines per biofluid\n",
    "  theme_classic() +  # Use classic theme\n",
    "  xlim(0, max(combined.plasma.urine.df$fragment_length) - 450) +  # Set x-axis limits\n",
    "  ylim(0, 0.0095) +  # Set y-axis limits\n",
    "  xlab('Fragment length (bp)') +  # Label x-axis\n",
    "  ylab('Fraction of reads') +  # Label y-axis\n",
    "  theme(  # Customize various theme elements for readability and aesthetics\n",
    "    axis.title.x = element_text(size = 8, family = \"Helvetica\", color = \"black\"),\n",
    "    axis.text.x = element_text(size = 8, family = \"Helvetica\", color = \"black\"),\n",
    "    axis.title.y = element_text(size = 8, family = \"Helvetica\", color = \"black\"),\n",
    "    axis.text.y = element_text(size = 8, family = \"Helvetica\", color = \"black\"),\n",
    "    legend.position = \"right\",\n",
    "    legend.text = element_text(size = 6),\n",
    "    legend.title = element_blank(),\n",
    "    legend.box.background = element_rect()\n",
    "  ) +\n",
    "  scale_colour_manual(values = safe_colorblind_palette)  # Apply custom color palette"
   ]
  },
  {
   "cell_type": "code",
   "execution_count": 8,
   "id": "dfb98fac",
   "metadata": {
    "scrolled": false
   },
   "outputs": [
    {
     "data": {
      "text/html": [
       "315"
      ],
      "text/latex": [
       "315"
      ],
      "text/markdown": [
       "315"
      ],
      "text/plain": [
       "[1] 315"
      ]
     },
     "metadata": {},
     "output_type": "display_data"
    },
    {
     "name": "stdout",
     "output_type": "stream",
     "text": [
      "[1] \"\"\n"
     ]
    },
    {
     "data": {
      "text/html": [
       "315"
      ],
      "text/latex": [
       "315"
      ],
      "text/markdown": [
       "315"
      ],
      "text/plain": [
       "[1] 315"
      ]
     },
     "metadata": {},
     "output_type": "display_data"
    }
   ],
   "source": [
    "# length(unique(all.length.df$sample_id))\n",
    "# print(\"\")\n",
    "# length(unique(samples_after_qc$sample_id))\n",
    "# head(all.length.df)\n",
    "# head(meta.df)"
   ]
  },
  {
   "cell_type": "markdown",
   "id": "eb4b9b8e",
   "metadata": {},
   "source": [
    "calculate stats"
   ]
  },
  {
   "cell_type": "code",
   "execution_count": 2,
   "id": "6a760986",
   "metadata": {},
   "outputs": [],
   "source": [
    "# head(combined.plasma.urine.df) \n",
    "# #SD = sqrt(sum((df$x−Mean)**2*df$frequency)/(sum(df$frequency)−1))\n",
    "# #combined.plasma.urine.df  %>% group_by(biofluid) %>% summarize(mean_length = mean(rep(fragment_length,count)))\n",
    "# d = combined.plasma.urine.df  %>% group_by(biofluid,sample_id) %>% summarize(mean_length = sum(fragment_length*count)/sum(count))\n",
    "# d %>% ggplot(.,aes(biofluid,mean_length, fill=biofluid))+geom_boxplot()+\n",
    "# geom_jitter(width = 0.15)+stat_n_text()+ theme_classic()+\n",
    "# theme(\n",
    "# #legend.position = c(0.8, 0.9),\n",
    "# #legend.position=\"top\",\n",
    "# legend.position=\"none\",\n",
    "# legend.title = element_blank(),\n",
    "# axis.title.x = element_blank(),\n",
    "# axis.text.x = element_text(size = 10,family = \"Helvetica\",color=\"black\"),\n",
    "# axis.title.y = element_text(size = 10,family = \"Helvetica\", color=\"black\"),\n",
    "# axis.text.y = element_text(size=10,family = \"Helvetica\", color=\"black\"),  \n",
    "# ) + ylab(\"Mean Length\")  + scale_fill_manual(values=safe_colorblind_palette)"
   ]
  },
  {
   "cell_type": "code",
   "execution_count": 27,
   "id": "be95d46b",
   "metadata": {},
   "outputs": [
    {
     "data": {
      "text/html": [
       "<table class=\"dataframe\">\n",
       "<caption>A tibble: 7 × 3</caption>\n",
       "<thead>\n",
       "\t<tr><th scope=col>biofluid</th><th scope=col>mean</th><th scope=col>sdev</th></tr>\n",
       "\t<tr><th scope=col>&lt;chr&gt;</th><th scope=col>&lt;dbl&gt;</th><th scope=col>&lt;dbl&gt;</th></tr>\n",
       "</thead>\n",
       "<tbody>\n",
       "\t<tr><td>aki_plasma    </td><td>114.88235</td><td>34.16783</td></tr>\n",
       "\t<tr><td>aki_urine     </td><td>123.08824</td><td>27.05143</td></tr>\n",
       "\t<tr><td>gvhd_plasma   </td><td> 96.53608</td><td>23.29792</td></tr>\n",
       "\t<tr><td>gvhd_urine    </td><td>102.15464</td><td>46.84379</td></tr>\n",
       "\t<tr><td>healthy_plasma</td><td>134.20000</td><td>18.24007</td></tr>\n",
       "\t<tr><td>healthy_urine </td><td> 99.80000</td><td>34.05437</td></tr>\n",
       "\t<tr><td>ktx_urine     </td><td>105.81395</td><td>67.41423</td></tr>\n",
       "</tbody>\n",
       "</table>\n"
      ],
      "text/latex": [
       "A tibble: 7 × 3\n",
       "\\begin{tabular}{lll}\n",
       " biofluid & mean & sdev\\\\\n",
       " <chr> & <dbl> & <dbl>\\\\\n",
       "\\hline\n",
       "\t aki\\_plasma     & 114.88235 & 34.16783\\\\\n",
       "\t aki\\_urine      & 123.08824 & 27.05143\\\\\n",
       "\t gvhd\\_plasma    &  96.53608 & 23.29792\\\\\n",
       "\t gvhd\\_urine     & 102.15464 & 46.84379\\\\\n",
       "\t healthy\\_plasma & 134.20000 & 18.24007\\\\\n",
       "\t healthy\\_urine  &  99.80000 & 34.05437\\\\\n",
       "\t ktx\\_urine      & 105.81395 & 67.41423\\\\\n",
       "\\end{tabular}\n"
      ],
      "text/markdown": [
       "\n",
       "A tibble: 7 × 3\n",
       "\n",
       "| biofluid &lt;chr&gt; | mean &lt;dbl&gt; | sdev &lt;dbl&gt; |\n",
       "|---|---|---|\n",
       "| aki_plasma     | 114.88235 | 34.16783 |\n",
       "| aki_urine      | 123.08824 | 27.05143 |\n",
       "| gvhd_plasma    |  96.53608 | 23.29792 |\n",
       "| gvhd_urine     | 102.15464 | 46.84379 |\n",
       "| healthy_plasma | 134.20000 | 18.24007 |\n",
       "| healthy_urine  |  99.80000 | 34.05437 |\n",
       "| ktx_urine      | 105.81395 | 67.41423 |\n",
       "\n"
      ],
      "text/plain": [
       "  biofluid       mean      sdev    \n",
       "1 aki_plasma     114.88235 34.16783\n",
       "2 aki_urine      123.08824 27.05143\n",
       "3 gvhd_plasma     96.53608 23.29792\n",
       "4 gvhd_urine     102.15464 46.84379\n",
       "5 healthy_plasma 134.20000 18.24007\n",
       "6 healthy_urine   99.80000 34.05437\n",
       "7 ktx_urine      105.81395 67.41423"
      ]
     },
     "metadata": {},
     "output_type": "display_data"
    },
    {
     "data": {
      "text/html": [
       "<table class=\"dataframe\">\n",
       "<caption>A tibble: 6 × 3</caption>\n",
       "<thead>\n",
       "\t<tr><th scope=col>biofluid</th><th scope=col>mean</th><th scope=col>sdev</th></tr>\n",
       "\t<tr><th scope=col>&lt;chr&gt;</th><th scope=col>&lt;dbl&gt;</th><th scope=col>&lt;dbl&gt;</th></tr>\n",
       "</thead>\n",
       "<tbody>\n",
       "\t<tr><td>aki_plasma    </td><td>114.88235</td><td>34.16783</td></tr>\n",
       "\t<tr><td>aki_urine     </td><td>123.08824</td><td>27.05143</td></tr>\n",
       "\t<tr><td>gvhd_plasma   </td><td> 96.53608</td><td>23.29792</td></tr>\n",
       "\t<tr><td>gvhd_urine    </td><td>102.15464</td><td>46.84379</td></tr>\n",
       "\t<tr><td>healthy_plasma</td><td>134.20000</td><td>18.24007</td></tr>\n",
       "\t<tr><td>healthy_urine </td><td> 99.80000</td><td>34.05437</td></tr>\n",
       "</tbody>\n",
       "</table>\n"
      ],
      "text/latex": [
       "A tibble: 6 × 3\n",
       "\\begin{tabular}{lll}\n",
       " biofluid & mean & sdev\\\\\n",
       " <chr> & <dbl> & <dbl>\\\\\n",
       "\\hline\n",
       "\t aki\\_plasma     & 114.88235 & 34.16783\\\\\n",
       "\t aki\\_urine      & 123.08824 & 27.05143\\\\\n",
       "\t gvhd\\_plasma    &  96.53608 & 23.29792\\\\\n",
       "\t gvhd\\_urine     & 102.15464 & 46.84379\\\\\n",
       "\t healthy\\_plasma & 134.20000 & 18.24007\\\\\n",
       "\t healthy\\_urine  &  99.80000 & 34.05437\\\\\n",
       "\\end{tabular}\n"
      ],
      "text/markdown": [
       "\n",
       "A tibble: 6 × 3\n",
       "\n",
       "| biofluid &lt;chr&gt; | mean &lt;dbl&gt; | sdev &lt;dbl&gt; |\n",
       "|---|---|---|\n",
       "| aki_plasma     | 114.88235 | 34.16783 |\n",
       "| aki_urine      | 123.08824 | 27.05143 |\n",
       "| gvhd_plasma    |  96.53608 | 23.29792 |\n",
       "| gvhd_urine     | 102.15464 | 46.84379 |\n",
       "| healthy_plasma | 134.20000 | 18.24007 |\n",
       "| healthy_urine  |  99.80000 | 34.05437 |\n",
       "\n"
      ],
      "text/plain": [
       "  biofluid       mean      sdev    \n",
       "1 aki_plasma     114.88235 34.16783\n",
       "2 aki_urine      123.08824 27.05143\n",
       "3 gvhd_plasma     96.53608 23.29792\n",
       "4 gvhd_urine     102.15464 46.84379\n",
       "5 healthy_plasma 134.20000 18.24007\n",
       "6 healthy_urine   99.80000 34.05437"
      ]
     },
     "metadata": {},
     "output_type": "display_data"
    }
   ],
   "source": [
    "df = combined.plasma.urine.df  %>% group_by(biofluid,sample_id) %>% filter(count==max(count))\n",
    "df = df  %>% group_by(biofluid) %>% summarize(mean=mean(fragment_length),sdev=sd(fragment_length))\n",
    "df\n",
    "df = df  %>% filter((biofluid != \"ktx_urine\")) \n",
    "df"
   ]
  },
  {
   "cell_type": "code",
   "execution_count": 40,
   "id": "2e536509",
   "metadata": {},
   "outputs": [
    {
     "name": "stderr",
     "output_type": "stream",
     "text": [
      "\u001b[1m\u001b[22m`summarise()` has grouped output by 'biofluid'. You can override using the `.groups` argument.\n"
     ]
    },
    {
     "data": {
      "text/html": [
       "<table class=\"dataframe\">\n",
       "<caption>A tibble: 2 × 3</caption>\n",
       "<thead>\n",
       "\t<tr><th scope=col>fluid</th><th scope=col>mean</th><th scope=col>sdev</th></tr>\n",
       "\t<tr><th scope=col>&lt;chr&gt;</th><th scope=col>&lt;dbl&gt;</th><th scope=col>&lt;dbl&gt;</th></tr>\n",
       "</thead>\n",
       "<tbody>\n",
       "\t<tr><td>plasma</td><td>146.0138</td><td>24.69854</td></tr>\n",
       "\t<tr><td>urine </td><td>151.9999</td><td>29.91541</td></tr>\n",
       "</tbody>\n",
       "</table>\n"
      ],
      "text/latex": [
       "A tibble: 2 × 3\n",
       "\\begin{tabular}{lll}\n",
       " fluid & mean & sdev\\\\\n",
       " <chr> & <dbl> & <dbl>\\\\\n",
       "\\hline\n",
       "\t plasma & 146.0138 & 24.69854\\\\\n",
       "\t urine  & 151.9999 & 29.91541\\\\\n",
       "\\end{tabular}\n"
      ],
      "text/markdown": [
       "\n",
       "A tibble: 2 × 3\n",
       "\n",
       "| fluid &lt;chr&gt; | mean &lt;dbl&gt; | sdev &lt;dbl&gt; |\n",
       "|---|---|---|\n",
       "| plasma | 146.0138 | 24.69854 |\n",
       "| urine  | 151.9999 | 29.91541 |\n",
       "\n"
      ],
      "text/plain": [
       "  fluid  mean     sdev    \n",
       "1 plasma 146.0138 24.69854\n",
       "2 urine  151.9999 29.91541"
      ]
     },
     "metadata": {},
     "output_type": "display_data"
    }
   ],
   "source": [
    "df = combined.plasma.urine.df  %>% group_by(biofluid,sample_id)\n",
    "df = df  %>% filter((biofluid != \"ktx_urine\")) \n",
    "df = df  %>% group_by(biofluid,sample_id) %>% summarise(weighted_mean = weighted.mean(x = fragment_length, w = count))\n",
    "df$fluid=gsub(\"healthy_|gvhd_|aki_\",\"\",df$biofluid)\n",
    "df  %>% group_by(fluid) %>% summarize(mean=mean(weighted_mean),sdev=sd(weighted_mean))"
   ]
  }
 ],
 "metadata": {
  "kernelspec": {
   "display_name": "R",
   "language": "R",
   "name": "ir"
  },
  "language_info": {
   "codemirror_mode": "r",
   "file_extension": ".r",
   "mimetype": "text/x-r-source",
   "name": "R",
   "pygments_lexer": "r",
   "version": "4.0.2"
  }
 },
 "nbformat": 4,
 "nbformat_minor": 5
}
