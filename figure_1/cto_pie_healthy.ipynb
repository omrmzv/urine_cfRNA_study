{
 "cells": [
  {
   "cell_type": "code",
   "execution_count": 30,
   "id": "2e15cef3",
   "metadata": {},
   "outputs": [],
   "source": [
    "suppressMessages(library(DESeq2))\n",
    "suppressMessages(library(edgeR))\n",
    "suppressMessages(library(lubridate))\n",
    "suppressMessages(library(dplyr))\n",
    "suppressMessages(library(tidyverse))\n",
    "suppressMessages(library(gsheet))\n",
    "suppressMessages(library(data.table))\n",
    "suppressMessages(library(vegan))\n",
    "suppressMessages(library(EnvStats))\n",
    "suppressMessages(library(stringr))"
   ]
  },
  {
   "cell_type": "code",
   "execution_count": 46,
   "id": "7888d09e",
   "metadata": {},
   "outputs": [],
   "source": [
    "rm(list=ls())\n",
    "setwd(\"/workdir/omm35/paper_urine_cfrna\")\n",
    "source(\"/workdir/omm35/paper_urine_cfrna/scripts/theme_ggplot_cfrna.R\")"
   ]
  },
  {
   "cell_type": "code",
   "execution_count": 47,
   "id": "cc1a0bde",
   "metadata": {},
   "outputs": [
    {
     "data": {
      "text/html": [
       "'/local/workdir/omm35/paper_urine_cfrna'"
      ],
      "text/latex": [
       "'/local/workdir/omm35/paper\\_urine\\_cfrna'"
      ],
      "text/markdown": [
       "'/local/workdir/omm35/paper_urine_cfrna'"
      ],
      "text/plain": [
       "[1] \"/local/workdir/omm35/paper_urine_cfrna\""
      ]
     },
     "metadata": {},
     "output_type": "display_data"
    }
   ],
   "source": []
  },
  {
   "cell_type": "code",
   "execution_count": 48,
   "id": "8e3a781c",
   "metadata": {},
   "outputs": [],
   "source": [
    "# Load QC-passed samples metadata from a CSV file.\n",
    "samples_after_qc = fread(\"metadata/QC_pass_samples.csv\")\n",
    "# Filter the samples to include only those categorized under 'healthy_plasma' or 'healthy_urine'.\n",
    "samples_after_qc = samples_after_qc %>% filter(biofluid == \"healthy_plasma\" | biofluid == \"healthy_urine\")\n",
    "\n",
    "## Loading urine cfRNA data and performing initial cleaning.\n",
    "# Load the urine cfRNA data from a specified TSV file. Assume headers are present.\n",
    "tissues.urine = fread(\"/workdir/omm35/paper_urine_cfrna/cto_deconvolution_output/healthy_urine_updated_ref_BP.protein_coding.tsv\", header = TRUE)\n",
    "# Replace periods with hyphens in the sample_id column for consistency with the QC-pass samples metadata.\n",
    "tissues.urine$sample_id = gsub(\"\\\\.\", \"-\", tissues.urine$sample_id)\n",
    "# Filter the urine cfRNA data to include only those sample IDs that match with the QC-passed samples.\n",
    "tissues.urine = tissues.urine[tissues.urine$sample_id %in% samples_after_qc$sample_id,]\n",
    "\n",
    "# Calculate the average fraction of cell types across all matched samples.\n",
    "# 'colMeans' computes the mean for each column (excluding the first column, which is assumed to be 'sample_id').\n",
    "urine_means = as.data.frame(colMeans(tissues.urine[, 2:ncol(tissues.urine)]), row.names = TRUE)\n",
    "\n",
    "# Prepare a data frame to store the tissue types and their corresponding average fractions.\n",
    "column.name = colnames(tissues.urine)\n",
    "mat = data.frame(matrix(, nrow = length(column.name[2:length(column.name)]), ncol = 2))\n",
    "mat$X1 = column.name[2:length(column.name)] # Tissue types.\n",
    "mat$X2 = urine_means$`colMeans(tissues.urine[, 2:ncol(tissues.urine)])` # Average fractions.\n",
    "colnames(mat) = c(\"tissue\", \"fraction\")\n",
    "urine = mat\n",
    "\n",
    "# Select the top 5 tissues with the highest average fraction.\n",
    "urine <- urine %>% arrange(desc(fraction)) %>% slice(1:5)\n",
    "# Reorder the tissues based on their fraction in descending order.\n",
    "urine <- urine %>% arrange(desc(fraction))\n",
    "\n",
    "# Calculate the fraction for the 'other' category by subtracting the sum of the top 5 fractions from 1.\n",
    "urine_other = data.frame(tissue = \"other\", fraction = 1 - sum(urine$fraction))\n",
    "# Add the 'other' category to the urine dataframe.\n",
    "urine = rbind(urine, urine_other)\n",
    "\n",
    "# Uncomment if you want to convert fractions to percentages. The code is currently commented out.\n",
    "# urine$fraction = 100 * urine$fraction\n",
    "\n",
    "# Create a label for plotting that combines the tissue name and its fraction as a percentage.\n",
    "urine_lab <- paste0(round(urine$fraction, 2), \"%\")\n",
    "\n",
    "# Convert the fractions in 'mat' to percentages for all tissues, not just the top 5.\n",
    "mat$percent = mat$fraction * 100"
   ]
  },
  {
   "cell_type": "code",
   "execution_count": 7,
   "id": "1c8edb3a",
   "metadata": {},
   "outputs": [],
   "source": [
    "\n",
    "#######loading plasma data and repeating the same processes as above\n",
    "tissues.plasma = fread(\"/workdir/omm35/paper_urine_cfrna/cto_deconvolution_output/healthy_plasma_updated_ref_BP.protein_coding.tsv\")\n",
    "tissues.plasma$sample_id=gsub(\"\\\\.\",\"-\",tissues.plasma$sample_id)\n",
    "tissues.plasma = tissues.plasma[tissues.plasma$sample_id %in% samples_after_qc$sample_id,]\n",
    "plasma_means =  as.data.frame(colMeans( tissues.plasma[,2:ncol(tissues.plasma)]), row.names = TRUE)\n",
    "column.name=colnames(tissues.plasma)\n",
    "mat = data.frame( matrix(, nrow = length(column.name[2:length(column.name)]), ncol = 2))\n",
    "mat$X1=column.name[2:length(column.name)]\n",
    "mat$X2 = plasma_means$`colMeans(tissues.plasma[, 2:ncol(tissues.plasma)])`\n",
    "colnames(mat)= c(\"tissue\",\"fraction\")\n",
    "plasma = mat\n",
    "plasma <- plasma %>% arrange(desc(fraction)) %>% slice(1:5)\n",
    "plasma <- plasma %>% arrange(desc(fraction))\n",
    "plasma_other = data.frame(tissue=\"other\", fraction=1-sum(plasma$fraction))\n",
    "plasma = rbind(plasma,plasma_other)\n",
    "plasma$fraction = 100*plasma$fraction\n",
    "plasma_lab <- paste0(round(plasma$fraction, 2), \"%\")\n",
    "urine$biofluid = \"urine\"\n",
    "plasma$biofluid= \"plasma\"\n",
    "urine.plasma.df = rbind(plasma,urine)"
   ]
  },
  {
   "cell_type": "code",
   "execution_count": 6,
   "id": "10cd56ef",
   "metadata": {},
   "outputs": [],
   "source": [
    "urine.plasma.df$tissue=substr(urine.plasma.df$tissue,1,40)\n",
    "color_palette <-c('#4477AA', '#EE6677', '#228833', '#CCBB44', '#66CCEE', '#AA3377', \"#88CCEE\", \n",
    "                  \"#CC6677\", \"#DDCC77\", \"#117733\", \"#332288\", \"#AA4499\", \n",
    "                  \"#44AA99\", \"#999933\", \"#882255\", \"#661100\", \"#6699CC\", \n",
    "                  \"#888888\",'#BBBBBB',\"#E54C44\",\"#6DED88\",\"#732D9F\",\"#01A03F\",\"#FF85EE\",\"#287500\",\n",
    "                  \"#705CD2\",\"#EFD245\",\"#0F80F8\",\"#E2A423\",\"#310D67\",\"#AFE382\",\"#6E006A\",\"#01A665\",\n",
    "                  \"#D944A6\",\"#6C8400\",\"#A493FF\",\"#E98429\",\"#0175CE\",\"#FDCD69\",\"#002965\",\"#A9E395\",\n",
    "                  \"#F14793\",\"#006630\",\"#FF8BC0\",\"#525F00\",\"#7EACFF\",\"#B0320A\",\"#004589\",\"#FD7547\",\n",
    "                  \"#3B1B55\",\"#FFAF73\",\"#AB7EC0\",\"#A05500\",\"#E1B6FF\",\"#654700\",\"#A60030\",\"#FF7D6D\",\n",
    "                  \"#6C0200\",\"#800030\")\n",
    "set.seed(1000)\n",
    "color_palette = sample(color_palette)\n",
    "ggplot(urine.plasma.df, aes(x=\"\", y=fraction, fill=tissue)) +\n",
    "  geom_bar(stat=\"identity\", width=1, color=\"white\") +\n",
    "  coord_polar(\"y\", start=0) + theme_void() + facet_grid(~biofluid)+\n",
    "scale_fill_manual(values = color_palette)+\n",
    "theme(\n",
    "    #axis.title.x = element_text(size = 8,family = \"Helvetica\", color=\"black\"),\n",
    "    #axis.text.x = element_text(size = 8,family = \"Helvetica\", color=\"black\"),\n",
    "    #axis.title.y = element_text(size = 8,family = \"Helvetica\", color=\"black\"),\n",
    "    #axis.text.y = element_text(size=6,family = \"Helvetica\", color=\"black\"),\n",
    "    #legend.position = c(0.8, 0.8),\n",
    "    legend.position = \"bottom\",\n",
    "    legend.text = element_text(size=6),\n",
    "    legend.title = element_blank(),\n",
    "    legend.box.background = element_rect(),\n",
    "  )"
   ]
  },
  {
   "cell_type": "code",
   "execution_count": null,
   "id": "04cf3213",
   "metadata": {},
   "outputs": [],
   "source": []
  }
 ],
 "metadata": {
  "kernelspec": {
   "display_name": "R",
   "language": "R",
   "name": "ir"
  },
  "language_info": {
   "codemirror_mode": "r",
   "file_extension": ".r",
   "mimetype": "text/x-r-source",
   "name": "R",
   "pygments_lexer": "r",
   "version": "4.0.2"
  }
 },
 "nbformat": 4,
 "nbformat_minor": 5
}
